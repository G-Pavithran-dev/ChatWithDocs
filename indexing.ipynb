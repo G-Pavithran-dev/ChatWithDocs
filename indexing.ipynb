{
 "cells": [
  {
   "cell_type": "markdown",
   "id": "47e6430c",
   "metadata": {},
   "source": [
    "# Read the data "
   ]
  },
  {
   "cell_type": "code",
   "execution_count": 1,
   "id": "e6e07d91",
   "metadata": {},
   "outputs": [
    {
     "data": {
      "text/plain": [
       "True"
      ]
     },
     "execution_count": 1,
     "metadata": {},
     "output_type": "execute_result"
    }
   ],
   "source": [
    "from llama_index.core import SimpleDirectoryReader\n",
    "from dotenv import load_dotenv\n",
    "import os\n",
    "\n",
    "load_dotenv()"
   ]
  },
  {
   "cell_type": "code",
   "execution_count": 2,
   "id": "45ffbc39",
   "metadata": {},
   "outputs": [],
   "source": [
    "\n",
    "base_folder = \"./docs\"\n",
    "reader = SimpleDirectoryReader(base_folder, recursive=True, exclude_hidden=True)"
   ]
  },
  {
   "cell_type": "code",
   "execution_count": 3,
   "id": "afe9ce19",
   "metadata": {},
   "outputs": [
    {
     "data": {
      "text/plain": [
       "[WindowsPath('d:/projects/AI_Projects/EcoRide_Chatbot/Backend/docs/Eco Ride Booking Process.txt'),\n",
       " WindowsPath('d:/projects/AI_Projects/EcoRide_Chatbot/Backend/docs/eco_ride_training_data.txt'),\n",
       " WindowsPath('d:/projects/AI_Projects/EcoRide_Chatbot/Backend/docs/Eco_ride_updated_docs.txt')]"
      ]
     },
     "execution_count": 3,
     "metadata": {},
     "output_type": "execute_result"
    }
   ],
   "source": [
    "reader.input_files"
   ]
  },
  {
   "cell_type": "code",
   "execution_count": 4,
   "id": "63b91d37",
   "metadata": {},
   "outputs": [],
   "source": [
    "docs = reader.load_data()"
   ]
  },
  {
   "cell_type": "code",
   "execution_count": 5,
   "id": "84cc3d89",
   "metadata": {},
   "outputs": [
    {
     "name": "stdout",
     "output_type": "stream",
     "text": [
      "file_path: d:\\projects\\AI_Projects\\EcoRide_Chatbot\\Backend\\docs\\Eco Ride Booking Process.txt\n",
      "file_name: Eco Ride Booking Process.txt\n",
      "file_type: text/plain\n",
      "file_size: 2008\n",
      "creation_date: 2025-05-21\n",
      "last_modified_date: 2025-05-21\n"
     ]
    }
   ],
   "source": [
    "print(docs[0].get_metadata_str())"
   ]
  },
  {
   "cell_type": "code",
   "execution_count": 6,
   "id": "4d1e730c",
   "metadata": {},
   "outputs": [
    {
     "name": "stdout",
     "output_type": "stream",
     "text": [
      "{'id_': 'cdfd8aa1-8900-4fcc-8bcf-1a7571c436bc', 'embedding': None, 'metadata': {'file_path': 'd:\\\\projects\\\\AI_Projects\\\\EcoRide_Chatbot\\\\Backend\\\\docs\\\\Eco Ride Booking Process.txt', 'file_name': 'Eco Ride Booking Process.txt', 'file_type': 'text/plain', 'file_size': 2008, 'creation_date': '2025-05-21', 'last_modified_date': '2025-05-21'}, 'excluded_embed_metadata_keys': ['file_name', 'file_type', 'file_size', 'creation_date', 'last_modified_date', 'last_accessed_date'], 'excluded_llm_metadata_keys': ['file_name', 'file_type', 'file_size', 'creation_date', 'last_modified_date', 'last_accessed_date'], 'relationships': {}, 'metadata_template': '{key}: {value}', 'metadata_separator': '\\n', 'text_resource': MediaResource(embeddings=None, data=None, text=' Eco Ride Booking Process\\r\\n👤 1. User Sign-Up/Login\\r\\nOnly verified SKCET students can create an account using their institutional credentials.\\r\\n\\r\\nReturning users log in securely using Multi-Factor Authentication (MFA).\\r\\n\\r\\n🏠 2. Access the Home Page\\r\\nOnce logged in, the user sees the Home Page which shows:\\r\\n\\r\\nRecommended rides based on user preferences and location\\r\\n\\r\\nQuick access to ride creation or booking sections\\r\\n\\r\\n🚘 3. Drivers: Create a Ride\\r\\nIf the user is a driver, they:\\r\\n\\r\\nGo to the Ride Creation Page\\r\\n\\r\\nFill in details:\\r\\n\\r\\nDeparture location & destination\\r\\n\\r\\nDeparture date and time\\r\\n\\r\\nNumber of available seats\\r\\n\\r\\nVehicle details (optional)\\r\\n\\r\\nSubmit the form to list the ride\\r\\n\\r\\nThe ride becomes visible to passengers searching for similar routes.\\r\\n\\r\\n🔍 4. Passengers: Search for a Ride\\r\\nIf the user is a passenger, they:\\r\\n\\r\\nGo to the Booking Ride Page\\r\\n\\r\\nEnter their desired pickup and drop locations\\r\\n\\r\\nUse combined filters (e.g., time, driver rating, available seats) to refine results\\r\\n\\r\\nBrowse the list of matching rides\\r\\n\\r\\n📖 5. View Ride Details\\r\\nPassengers can click on a ride to see:\\r\\n\\r\\nDriver profile (name, rating)\\r\\n\\r\\nRide details (route, time, seats, vehicle info)\\r\\n\\r\\nEstimated fare or cost-sharing details (if applicable)\\r\\n\\r\\n✅ 6. Confirm Booking\\r\\nIf the ride suits the passenger’s needs, they click \"Book Ride\"\\r\\n\\r\\nThe seat is reserved, and the driver is notified\\r\\n\\r\\n💬 7. Driver-Passenger Communication\\r\\nThe system supports in-app secure messaging for:\\r\\n\\r\\nConfirming pickup point\\r\\n\\r\\nDiscussing ride details or changes\\r\\n\\r\\n📅 8. Ride History Management\\r\\nAfter booking:\\r\\n\\r\\nThe ride is listed in the Passenger Ride History as \"Upcoming\"\\r\\n\\r\\nFor drivers, it appears in the Pilot Ride History\\r\\n\\r\\nAfter the ride:\\r\\n\\r\\nIt moves to the Completed section\\r\\n\\r\\nBoth users can leave ratings and feedback\\r\\n\\r\\n🛡️ Safety and Verification\\r\\nOnly verified SKCET users can access the platform\\r\\n\\r\\nAll rides and interactions are encrypted\\r\\n\\r\\nRatings help maintain trust and quality', path=None, url=None, mimetype=None), 'image_resource': None, 'audio_resource': None, 'video_resource': None, 'text_template': '{metadata_str}\\n\\n{content}'}\n"
     ]
    }
   ],
   "source": [
    "print(docs[0].__dict__)"
   ]
  },
  {
   "cell_type": "markdown",
   "id": "d1c56b07",
   "metadata": {},
   "source": [
    "# Node Parser"
   ]
  },
  {
   "cell_type": "code",
   "execution_count": 7,
   "id": "367edd58",
   "metadata": {},
   "outputs": [],
   "source": [
    "from llama_index.core.node_parser import SentenceSplitter\n",
    "\n",
    "node_parser = SentenceSplitter(chunk_overlap=0, chunk_size=200)"
   ]
  },
  {
   "cell_type": "code",
   "execution_count": 8,
   "id": "adc65432",
   "metadata": {},
   "outputs": [
    {
     "data": {
      "application/vnd.jupyter.widget-view+json": {
       "model_id": "5000575662ea4398879d90370b93e261",
       "version_major": 2,
       "version_minor": 0
      },
      "text/plain": [
       "Parsing nodes:   0%|          | 0/3 [00:00<?, ?it/s]"
      ]
     },
     "metadata": {},
     "output_type": "display_data"
    }
   ],
   "source": [
    "nodes = node_parser.get_nodes_from_documents(docs, show_progress=True)"
   ]
  },
  {
   "cell_type": "code",
   "execution_count": 9,
   "id": "706f90cc",
   "metadata": {},
   "outputs": [
    {
     "name": "stdout",
     "output_type": "stream",
     "text": [
      "15\n"
     ]
    }
   ],
   "source": [
    "print(len(nodes))"
   ]
  },
  {
   "cell_type": "code",
   "execution_count": 10,
   "id": "30456bb6",
   "metadata": {},
   "outputs": [
    {
     "data": {
      "text/plain": [
       "[TextNode(id_='45a22c94-2d29-46fc-a76a-553572cc6733', embedding=None, metadata={'file_path': 'd:\\\\projects\\\\AI_Projects\\\\EcoRide_Chatbot\\\\Backend\\\\docs\\\\Eco Ride Booking Process.txt', 'file_name': 'Eco Ride Booking Process.txt', 'file_type': 'text/plain', 'file_size': 2008, 'creation_date': '2025-05-21', 'last_modified_date': '2025-05-21'}, excluded_embed_metadata_keys=['file_name', 'file_type', 'file_size', 'creation_date', 'last_modified_date', 'last_accessed_date'], excluded_llm_metadata_keys=['file_name', 'file_type', 'file_size', 'creation_date', 'last_modified_date', 'last_accessed_date'], relationships={<NodeRelationship.SOURCE: '1'>: RelatedNodeInfo(node_id='cdfd8aa1-8900-4fcc-8bcf-1a7571c436bc', node_type=<ObjectType.DOCUMENT: '4'>, metadata={'file_path': 'd:\\\\projects\\\\AI_Projects\\\\EcoRide_Chatbot\\\\Backend\\\\docs\\\\Eco Ride Booking Process.txt', 'file_name': 'Eco Ride Booking Process.txt', 'file_type': 'text/plain', 'file_size': 2008, 'creation_date': '2025-05-21', 'last_modified_date': '2025-05-21'}, hash='e4b5be1ec6fe35d2c136248d34c62486eb1b488474dab7533411c7ea9c603d65'), <NodeRelationship.NEXT: '3'>: RelatedNodeInfo(node_id='3f265836-e184-4814-b1d7-4a336f01961f', node_type=<ObjectType.TEXT: '1'>, metadata={}, hash='b156db8611e7147cc5114f25c7e8369bdd14c5aaf66f156da820d1553ea1da42')}, metadata_template='{key}: {value}', metadata_separator='\\n', text='Eco Ride Booking Process\\r\\n👤 1. User Sign-Up/Login\\r\\nOnly verified SKCET students can create an account using their institutional credentials.\\r\\n\\r\\nReturning users log in securely using Multi-Factor Authentication (MFA).\\r\\n\\r\\n🏠 2. Access the Home Page\\r\\nOnce logged in, the user sees the Home Page which shows:\\r\\n\\r\\nRecommended rides based on user preferences and location\\r\\n\\r\\nQuick access to ride creation or booking sections\\r\\n\\r\\n🚘 3. Drivers: Create a Ride\\r\\nIf the user is a driver, they:\\r\\n\\r\\nGo to the Ride Creation Page\\r\\n\\r\\nFill in details:\\r\\n\\r\\nDeparture location & destination\\r\\n\\r\\nDeparture date and time\\r\\n\\r\\nNumber of available seats\\r\\n\\r\\nVehicle details (optional)\\r\\n\\r\\nSubmit the form to list the ride\\r\\n\\r\\nThe ride becomes visible to passengers searching for similar routes.\\r\\n\\r\\n🔍 4.', mimetype='text/plain', start_char_idx=1, end_char_idx=770, metadata_seperator='\\n', text_template='{metadata_str}\\n\\n{content}'),\n",
       " TextNode(id_='3f265836-e184-4814-b1d7-4a336f01961f', embedding=None, metadata={'file_path': 'd:\\\\projects\\\\AI_Projects\\\\EcoRide_Chatbot\\\\Backend\\\\docs\\\\Eco Ride Booking Process.txt', 'file_name': 'Eco Ride Booking Process.txt', 'file_type': 'text/plain', 'file_size': 2008, 'creation_date': '2025-05-21', 'last_modified_date': '2025-05-21'}, excluded_embed_metadata_keys=['file_name', 'file_type', 'file_size', 'creation_date', 'last_modified_date', 'last_accessed_date'], excluded_llm_metadata_keys=['file_name', 'file_type', 'file_size', 'creation_date', 'last_modified_date', 'last_accessed_date'], relationships={<NodeRelationship.SOURCE: '1'>: RelatedNodeInfo(node_id='cdfd8aa1-8900-4fcc-8bcf-1a7571c436bc', node_type=<ObjectType.DOCUMENT: '4'>, metadata={'file_path': 'd:\\\\projects\\\\AI_Projects\\\\EcoRide_Chatbot\\\\Backend\\\\docs\\\\Eco Ride Booking Process.txt', 'file_name': 'Eco Ride Booking Process.txt', 'file_type': 'text/plain', 'file_size': 2008, 'creation_date': '2025-05-21', 'last_modified_date': '2025-05-21'}, hash='e4b5be1ec6fe35d2c136248d34c62486eb1b488474dab7533411c7ea9c603d65'), <NodeRelationship.PREVIOUS: '2'>: RelatedNodeInfo(node_id='45a22c94-2d29-46fc-a76a-553572cc6733', node_type=<ObjectType.TEXT: '1'>, metadata={'file_path': 'd:\\\\projects\\\\AI_Projects\\\\EcoRide_Chatbot\\\\Backend\\\\docs\\\\Eco Ride Booking Process.txt', 'file_name': 'Eco Ride Booking Process.txt', 'file_type': 'text/plain', 'file_size': 2008, 'creation_date': '2025-05-21', 'last_modified_date': '2025-05-21'}, hash='cf079581a1403a26c53e8b7517f847fee9717bfc3a18e0dbf4085958b353969f'), <NodeRelationship.NEXT: '3'>: RelatedNodeInfo(node_id='98ef1c58-ff4c-4e6c-ae28-7bfb8a258207', node_type=<ObjectType.TEXT: '1'>, metadata={}, hash='b7cfaeb565c043df9afea4e7249585b6cca072e623d743aef34234b28c6ddbad')}, metadata_template='{key}: {value}', metadata_separator='\\n', text='Passengers: Search for a Ride\\r\\nIf the user is a passenger, they:\\r\\n\\r\\nGo to the Booking Ride Page\\r\\n\\r\\nEnter their desired pickup and drop locations\\r\\n\\r\\nUse combined filters (e.g., time, driver rating, available seats) to refine results\\r\\n\\r\\nBrowse the list of matching rides\\r\\n\\r\\n📖 5. View Ride Details\\r\\nPassengers can click on a ride to see:\\r\\n\\r\\nDriver profile (name, rating)\\r\\n\\r\\nRide details (route, time, seats, vehicle info)\\r\\n\\r\\nEstimated fare or cost-sharing details (if applicable)\\r\\n\\r\\n✅ 6. Confirm Booking\\r\\nIf the ride suits the passenger’s needs, they click \"Book Ride\"\\r\\n\\r\\nThe seat is reserved, and the driver is notified\\r\\n\\r\\n💬 7.', mimetype='text/plain', start_char_idx=771, end_char_idx=1396, metadata_seperator='\\n', text_template='{metadata_str}\\n\\n{content}'),\n",
       " TextNode(id_='98ef1c58-ff4c-4e6c-ae28-7bfb8a258207', embedding=None, metadata={'file_path': 'd:\\\\projects\\\\AI_Projects\\\\EcoRide_Chatbot\\\\Backend\\\\docs\\\\Eco Ride Booking Process.txt', 'file_name': 'Eco Ride Booking Process.txt', 'file_type': 'text/plain', 'file_size': 2008, 'creation_date': '2025-05-21', 'last_modified_date': '2025-05-21'}, excluded_embed_metadata_keys=['file_name', 'file_type', 'file_size', 'creation_date', 'last_modified_date', 'last_accessed_date'], excluded_llm_metadata_keys=['file_name', 'file_type', 'file_size', 'creation_date', 'last_modified_date', 'last_accessed_date'], relationships={<NodeRelationship.SOURCE: '1'>: RelatedNodeInfo(node_id='cdfd8aa1-8900-4fcc-8bcf-1a7571c436bc', node_type=<ObjectType.DOCUMENT: '4'>, metadata={'file_path': 'd:\\\\projects\\\\AI_Projects\\\\EcoRide_Chatbot\\\\Backend\\\\docs\\\\Eco Ride Booking Process.txt', 'file_name': 'Eco Ride Booking Process.txt', 'file_type': 'text/plain', 'file_size': 2008, 'creation_date': '2025-05-21', 'last_modified_date': '2025-05-21'}, hash='e4b5be1ec6fe35d2c136248d34c62486eb1b488474dab7533411c7ea9c603d65'), <NodeRelationship.PREVIOUS: '2'>: RelatedNodeInfo(node_id='3f265836-e184-4814-b1d7-4a336f01961f', node_type=<ObjectType.TEXT: '1'>, metadata={'file_path': 'd:\\\\projects\\\\AI_Projects\\\\EcoRide_Chatbot\\\\Backend\\\\docs\\\\Eco Ride Booking Process.txt', 'file_name': 'Eco Ride Booking Process.txt', 'file_type': 'text/plain', 'file_size': 2008, 'creation_date': '2025-05-21', 'last_modified_date': '2025-05-21'}, hash='3ff2ea276db27f6995e8ceb2c3c8d7aff8c90f3e350593aead75e67983e98440')}, metadata_template='{key}: {value}', metadata_separator='\\n', text='Driver-Passenger Communication\\r\\nThe system supports in-app secure messaging for:\\r\\n\\r\\nConfirming pickup point\\r\\n\\r\\nDiscussing ride details or changes\\r\\n\\r\\n📅 8. Ride History Management\\r\\nAfter booking:\\r\\n\\r\\nThe ride is listed in the Passenger Ride History as \"Upcoming\"\\r\\n\\r\\nFor drivers, it appears in the Pilot Ride History\\r\\n\\r\\nAfter the ride:\\r\\n\\r\\nIt moves to the Completed section\\r\\n\\r\\nBoth users can leave ratings and feedback\\r\\n\\r\\n🛡️ Safety and Verification\\r\\nOnly verified SKCET users can access the platform\\r\\n\\r\\nAll rides and interactions are encrypted\\r\\n\\r\\nRatings help maintain trust and quality', mimetype='text/plain', start_char_idx=1397, end_char_idx=1978, metadata_seperator='\\n', text_template='{metadata_str}\\n\\n{content}'),\n",
       " TextNode(id_='f253dbb9-b777-4568-9127-39935ad58409', embedding=None, metadata={'file_path': 'd:\\\\projects\\\\AI_Projects\\\\EcoRide_Chatbot\\\\Backend\\\\docs\\\\eco_ride_training_data.txt', 'file_name': 'eco_ride_training_data.txt', 'file_type': 'text/plain', 'file_size': 3111, 'creation_date': '2025-05-21', 'last_modified_date': '2025-06-14'}, excluded_embed_metadata_keys=['file_name', 'file_type', 'file_size', 'creation_date', 'last_modified_date', 'last_accessed_date'], excluded_llm_metadata_keys=['file_name', 'file_type', 'file_size', 'creation_date', 'last_modified_date', 'last_accessed_date'], relationships={<NodeRelationship.SOURCE: '1'>: RelatedNodeInfo(node_id='bc4da31c-cfbe-48ee-ad44-b14fa6cd5159', node_type=<ObjectType.DOCUMENT: '4'>, metadata={'file_path': 'd:\\\\projects\\\\AI_Projects\\\\EcoRide_Chatbot\\\\Backend\\\\docs\\\\eco_ride_training_data.txt', 'file_name': 'eco_ride_training_data.txt', 'file_type': 'text/plain', 'file_size': 3111, 'creation_date': '2025-05-21', 'last_modified_date': '2025-06-14'}, hash='36dcb43550b66f09d71fbbb824a25c3e349b0c8200f26b5a2627c9328cd47b0d'), <NodeRelationship.NEXT: '3'>: RelatedNodeInfo(node_id='aefd1853-1271-45d4-80cf-d7734b0cebeb', node_type=<ObjectType.TEXT: '1'>, metadata={}, hash='06930dc76936b0bc403dd40edc0faeebc672dbbca4ba738ff54e9478adbb204c')}, metadata_template='{key}: {value}', metadata_separator='\\n', text='# Eco Ride – Generalized App Documentation for Chatbot Training\\n\\n## What is Eco Ride?\\nEco Ride is a smart carpooling platform designed to connect drivers and passengers for shared rides. Initially created for students of SKCET (Sri Krishna College of Engineering and Technology), the platform aims to reduce transportation costs, ease commuting discomfort, and minimize environmental impact.\\n\\n## Who developed Eco Ride?\\nEco Ride was developed by:\\n- Logeshkumar M\\n- Nithish Kumar P\\n- Pavithran G\\n\\nas part of their academic project for the course Advanced Application Development (21IT902) at SKCET.\\n\\n## What is the purpose of Eco Ride?\\n- Match students traveling the same route to promote carpooling.\\n- Reduce fuel costs and traffic congestion.', mimetype='text/plain', start_char_idx=1, end_char_idx=744, metadata_seperator='\\n', text_template='{metadata_str}\\n\\n{content}'),\n",
       " TextNode(id_='aefd1853-1271-45d4-80cf-d7734b0cebeb', embedding=None, metadata={'file_path': 'd:\\\\projects\\\\AI_Projects\\\\EcoRide_Chatbot\\\\Backend\\\\docs\\\\eco_ride_training_data.txt', 'file_name': 'eco_ride_training_data.txt', 'file_type': 'text/plain', 'file_size': 3111, 'creation_date': '2025-05-21', 'last_modified_date': '2025-06-14'}, excluded_embed_metadata_keys=['file_name', 'file_type', 'file_size', 'creation_date', 'last_modified_date', 'last_accessed_date'], excluded_llm_metadata_keys=['file_name', 'file_type', 'file_size', 'creation_date', 'last_modified_date', 'last_accessed_date'], relationships={<NodeRelationship.SOURCE: '1'>: RelatedNodeInfo(node_id='bc4da31c-cfbe-48ee-ad44-b14fa6cd5159', node_type=<ObjectType.DOCUMENT: '4'>, metadata={'file_path': 'd:\\\\projects\\\\AI_Projects\\\\EcoRide_Chatbot\\\\Backend\\\\docs\\\\eco_ride_training_data.txt', 'file_name': 'eco_ride_training_data.txt', 'file_type': 'text/plain', 'file_size': 3111, 'creation_date': '2025-05-21', 'last_modified_date': '2025-06-14'}, hash='36dcb43550b66f09d71fbbb824a25c3e349b0c8200f26b5a2627c9328cd47b0d'), <NodeRelationship.PREVIOUS: '2'>: RelatedNodeInfo(node_id='f253dbb9-b777-4568-9127-39935ad58409', node_type=<ObjectType.TEXT: '1'>, metadata={'file_path': 'd:\\\\projects\\\\AI_Projects\\\\EcoRide_Chatbot\\\\Backend\\\\docs\\\\eco_ride_training_data.txt', 'file_name': 'eco_ride_training_data.txt', 'file_type': 'text/plain', 'file_size': 3111, 'creation_date': '2025-05-21', 'last_modified_date': '2025-06-14'}, hash='206c3ae54245d219340c1b2f2abda94656f770dd0323b9c81d4f05d7ebc8c28e'), <NodeRelationship.NEXT: '3'>: RelatedNodeInfo(node_id='a808952f-ef93-45ab-80a7-d543408f0930', node_type=<ObjectType.TEXT: '1'>, metadata={}, hash='0e923095c9ff9b29747bfb2045fc0fa827b0d50edd880a469d245f2275f7b391')}, metadata_template='{key}: {value}', metadata_separator='\\n', text='- Provide a safe, convenient, and eco-friendly transportation option.\\n- Minimize carbon emissions by reducing the number of vehicles used.\\n\\n## Key Features of the App\\n- User Authentication: Sign-up/login only allowed for SKCET students (verified).\\n- Ride Creation: Drivers can list available seats and ride details.\\n- Ride Booking: Passengers can search, filter, and book rides.\\n- Profile Management: Users can manage their contact info and preferences.\\n- Ride History: Separate tracking of past/upcoming rides for drivers and passengers.\\n- Rating & Feedback: Users can rate each other to ensure trust and quality.\\n- Secure Messaging: Built-in communication between driver and passenger.\\n- Combined Filtering: Rides can be filtered by route, time, rating, and seat availability.', mimetype='text/plain', start_char_idx=745, end_char_idx=1523, metadata_seperator='\\n', text_template='{metadata_str}\\n\\n{content}'),\n",
       " TextNode(id_='a808952f-ef93-45ab-80a7-d543408f0930', embedding=None, metadata={'file_path': 'd:\\\\projects\\\\AI_Projects\\\\EcoRide_Chatbot\\\\Backend\\\\docs\\\\eco_ride_training_data.txt', 'file_name': 'eco_ride_training_data.txt', 'file_type': 'text/plain', 'file_size': 3111, 'creation_date': '2025-05-21', 'last_modified_date': '2025-06-14'}, excluded_embed_metadata_keys=['file_name', 'file_type', 'file_size', 'creation_date', 'last_modified_date', 'last_accessed_date'], excluded_llm_metadata_keys=['file_name', 'file_type', 'file_size', 'creation_date', 'last_modified_date', 'last_accessed_date'], relationships={<NodeRelationship.SOURCE: '1'>: RelatedNodeInfo(node_id='bc4da31c-cfbe-48ee-ad44-b14fa6cd5159', node_type=<ObjectType.DOCUMENT: '4'>, metadata={'file_path': 'd:\\\\projects\\\\AI_Projects\\\\EcoRide_Chatbot\\\\Backend\\\\docs\\\\eco_ride_training_data.txt', 'file_name': 'eco_ride_training_data.txt', 'file_type': 'text/plain', 'file_size': 3111, 'creation_date': '2025-05-21', 'last_modified_date': '2025-06-14'}, hash='36dcb43550b66f09d71fbbb824a25c3e349b0c8200f26b5a2627c9328cd47b0d'), <NodeRelationship.PREVIOUS: '2'>: RelatedNodeInfo(node_id='aefd1853-1271-45d4-80cf-d7734b0cebeb', node_type=<ObjectType.TEXT: '1'>, metadata={'file_path': 'd:\\\\projects\\\\AI_Projects\\\\EcoRide_Chatbot\\\\Backend\\\\docs\\\\eco_ride_training_data.txt', 'file_name': 'eco_ride_training_data.txt', 'file_type': 'text/plain', 'file_size': 3111, 'creation_date': '2025-05-21', 'last_modified_date': '2025-06-14'}, hash='88b53bde52285282268564b7e736b155af06350e492c76373fbb9067dd8f4862'), <NodeRelationship.NEXT: '3'>: RelatedNodeInfo(node_id='486a969b-59ef-4949-9841-d3a3f887c062', node_type=<ObjectType.TEXT: '1'>, metadata={}, hash='44abf98a3e76bbeffc9d710a31de4402c178afe6b0774ae2b6dc4649eee39a1c')}, metadata_template='{key}: {value}', metadata_separator='\\n', text='## Technical Stack\\n- Frontend: ReactJS (Component-based, Virtual DOM, JSX)\\n- Backend: Java (Spring Boot, Spring Security, Data JPA, PostgreSQL, Lombok)\\n- Database: PostgreSQL\\n- IDE: Visual Studio Code\\n- Deployment: Cloud-based, Microservices architecture\\n- Security:\\n  - Only domain mails allowed to signup\\n  - Verifying ID Cards\\n\\n## System Modules\\n1. Booking Management\\n2. Ride History\\n3. Profile Management\\n\\n## Environmental & Social Impact\\n- Reduces number of vehicles on roads.\\n- Saves fuel and reduces emissions.\\n- Builds community and networking among users.\\n\\n## How is user safety and data protected?\\n- Verified Access: Only SKCET students can register.\\n- MFA Login: Secure multi-step login.', mimetype='text/plain', start_char_idx=1525, end_char_idx=2223, metadata_seperator='\\n', text_template='{metadata_str}\\n\\n{content}'),\n",
       " TextNode(id_='486a969b-59ef-4949-9841-d3a3f887c062', embedding=None, metadata={'file_path': 'd:\\\\projects\\\\AI_Projects\\\\EcoRide_Chatbot\\\\Backend\\\\docs\\\\eco_ride_training_data.txt', 'file_name': 'eco_ride_training_data.txt', 'file_type': 'text/plain', 'file_size': 3111, 'creation_date': '2025-05-21', 'last_modified_date': '2025-06-14'}, excluded_embed_metadata_keys=['file_name', 'file_type', 'file_size', 'creation_date', 'last_modified_date', 'last_accessed_date'], excluded_llm_metadata_keys=['file_name', 'file_type', 'file_size', 'creation_date', 'last_modified_date', 'last_accessed_date'], relationships={<NodeRelationship.SOURCE: '1'>: RelatedNodeInfo(node_id='bc4da31c-cfbe-48ee-ad44-b14fa6cd5159', node_type=<ObjectType.DOCUMENT: '4'>, metadata={'file_path': 'd:\\\\projects\\\\AI_Projects\\\\EcoRide_Chatbot\\\\Backend\\\\docs\\\\eco_ride_training_data.txt', 'file_name': 'eco_ride_training_data.txt', 'file_type': 'text/plain', 'file_size': 3111, 'creation_date': '2025-05-21', 'last_modified_date': '2025-06-14'}, hash='36dcb43550b66f09d71fbbb824a25c3e349b0c8200f26b5a2627c9328cd47b0d'), <NodeRelationship.PREVIOUS: '2'>: RelatedNodeInfo(node_id='a808952f-ef93-45ab-80a7-d543408f0930', node_type=<ObjectType.TEXT: '1'>, metadata={'file_path': 'd:\\\\projects\\\\AI_Projects\\\\EcoRide_Chatbot\\\\Backend\\\\docs\\\\eco_ride_training_data.txt', 'file_name': 'eco_ride_training_data.txt', 'file_type': 'text/plain', 'file_size': 3111, 'creation_date': '2025-05-21', 'last_modified_date': '2025-06-14'}, hash='11bec8c3c1a5f09a279634b6dc55eff30d4dbb9eeb1af06cb13bc487590e1a0d'), <NodeRelationship.NEXT: '3'>: RelatedNodeInfo(node_id='22d6dc43-090b-43ea-b9ed-0400089cef9e', node_type=<ObjectType.TEXT: '1'>, metadata={}, hash='9e43d53ad3abfbd223f399949a6c190d1654def8b8def29f407d8ca7113c13c8')}, metadata_template='{key}: {value}', metadata_separator='\\n', text='- Encrypted Data: All communications and data are AES-encrypted.\\n- Review System: Riders and drivers are rated for accountability.\\n\\n## Can Eco Ride be used outside SKCET?\\nYes. While initially developed for SKCET, Eco Ride can be adapted for:\\n- Other colleges/universities\\n- Corporate campuses\\n- Tech parks/business zones\\n- Event/conference carpooling\\n\\n## System Requirements\\n**Hardware:**\\n- Processor: Ryzen i5 or equivalent\\n- RAM: 4GB minimum\\n- Storage: SSD preferred\\n\\n**Software:**\\n- OS: Windows 10 and more\\n- IDE: Visual Studio Code\\n- Languages: ReactJS (Frontend), Java Spring Boot (Backend)\\n\\n## Conclusion\\nEco Ride is a secure, scalable, and socially conscious solution that transforms how people commute within institutional communities.', mimetype='text/plain', start_char_idx=2224, end_char_idx=2967, metadata_seperator='\\n', text_template='{metadata_str}\\n\\n{content}'),\n",
       " TextNode(id_='22d6dc43-090b-43ea-b9ed-0400089cef9e', embedding=None, metadata={'file_path': 'd:\\\\projects\\\\AI_Projects\\\\EcoRide_Chatbot\\\\Backend\\\\docs\\\\eco_ride_training_data.txt', 'file_name': 'eco_ride_training_data.txt', 'file_type': 'text/plain', 'file_size': 3111, 'creation_date': '2025-05-21', 'last_modified_date': '2025-06-14'}, excluded_embed_metadata_keys=['file_name', 'file_type', 'file_size', 'creation_date', 'last_modified_date', 'last_accessed_date'], excluded_llm_metadata_keys=['file_name', 'file_type', 'file_size', 'creation_date', 'last_modified_date', 'last_accessed_date'], relationships={<NodeRelationship.SOURCE: '1'>: RelatedNodeInfo(node_id='bc4da31c-cfbe-48ee-ad44-b14fa6cd5159', node_type=<ObjectType.DOCUMENT: '4'>, metadata={'file_path': 'd:\\\\projects\\\\AI_Projects\\\\EcoRide_Chatbot\\\\Backend\\\\docs\\\\eco_ride_training_data.txt', 'file_name': 'eco_ride_training_data.txt', 'file_type': 'text/plain', 'file_size': 3111, 'creation_date': '2025-05-21', 'last_modified_date': '2025-06-14'}, hash='36dcb43550b66f09d71fbbb824a25c3e349b0c8200f26b5a2627c9328cd47b0d'), <NodeRelationship.PREVIOUS: '2'>: RelatedNodeInfo(node_id='486a969b-59ef-4949-9841-d3a3f887c062', node_type=<ObjectType.TEXT: '1'>, metadata={'file_path': 'd:\\\\projects\\\\AI_Projects\\\\EcoRide_Chatbot\\\\Backend\\\\docs\\\\eco_ride_training_data.txt', 'file_name': 'eco_ride_training_data.txt', 'file_type': 'text/plain', 'file_size': 3111, 'creation_date': '2025-05-21', 'last_modified_date': '2025-06-14'}, hash='2293ca831c275420be58931da26a51adc4f9196fbf6215861a200ec3880c0709')}, metadata_template='{key}: {value}', metadata_separator='\\n', text='It helps users save money, reduce environmental damage, and make commuting more convenient—all while fostering a culture of collaboration.', mimetype='text/plain', start_char_idx=2968, end_char_idx=3106, metadata_seperator='\\n', text_template='{metadata_str}\\n\\n{content}'),\n",
       " TextNode(id_='46dc0d3a-d116-44f9-88b8-e41192fa99b4', embedding=None, metadata={'file_path': 'd:\\\\projects\\\\AI_Projects\\\\EcoRide_Chatbot\\\\Backend\\\\docs\\\\Eco_ride_updated_docs.txt', 'file_name': 'Eco_ride_updated_docs.txt', 'file_type': 'text/plain', 'file_size': 4643, 'creation_date': '2025-06-14', 'last_modified_date': '2025-06-14'}, excluded_embed_metadata_keys=['file_name', 'file_type', 'file_size', 'creation_date', 'last_modified_date', 'last_accessed_date'], excluded_llm_metadata_keys=['file_name', 'file_type', 'file_size', 'creation_date', 'last_modified_date', 'last_accessed_date'], relationships={<NodeRelationship.SOURCE: '1'>: RelatedNodeInfo(node_id='983d417e-964c-4a12-9efa-b2d34fa46c84', node_type=<ObjectType.DOCUMENT: '4'>, metadata={'file_path': 'd:\\\\projects\\\\AI_Projects\\\\EcoRide_Chatbot\\\\Backend\\\\docs\\\\Eco_ride_updated_docs.txt', 'file_name': 'Eco_ride_updated_docs.txt', 'file_type': 'text/plain', 'file_size': 4643, 'creation_date': '2025-06-14', 'last_modified_date': '2025-06-14'}, hash='eed3281f1083222f89f607c3f9b090a85ff37c9cbca61101d2f8a25fef668256'), <NodeRelationship.NEXT: '3'>: RelatedNodeInfo(node_id='e4b74117-7bcf-4022-b9a7-7c70afa0a17a', node_type=<ObjectType.TEXT: '1'>, metadata={}, hash='e7de08e05c57c3881945e27061104bbd5b0942658b3dcbd7c556c7a7f31f0a12')}, metadata_template='{key}: {value}', metadata_separator='\\n', text='##SHORT_OVERVIEW\\r\\n\\r\\nEco Ride is a secure, eco-friendly carpooling platform built for SKCET students to share rides efficiently. It connects students who drive to college with others traveling the same route. Users can sign up using their institutional email and ID card, ensuring only verified students access the system. The platform offers ride creation, booking, ride history, and filtering options for convenience. Eco-Ride Assist is the chatbot that helps users navigate the app, making ride-sharing seamless, affordable, and sustainable.\\r\\n\\r\\n##FULL_DESCRIPTION\\r\\n\\r\\nEco Ride is an innovative carpooling platform specifically designed for the students of Sri Krishna College of Engineering and Technology (SKCET). It was built to solve key commuting issues such as overcrowded buses, underutilized personal vehicles, fuel wastage, and environmental impact.', mimetype='text/plain', start_char_idx=0, end_char_idx=858, metadata_seperator='\\n', text_template='{metadata_str}\\n\\n{content}'),\n",
       " TextNode(id_='e4b74117-7bcf-4022-b9a7-7c70afa0a17a', embedding=None, metadata={'file_path': 'd:\\\\projects\\\\AI_Projects\\\\EcoRide_Chatbot\\\\Backend\\\\docs\\\\Eco_ride_updated_docs.txt', 'file_name': 'Eco_ride_updated_docs.txt', 'file_type': 'text/plain', 'file_size': 4643, 'creation_date': '2025-06-14', 'last_modified_date': '2025-06-14'}, excluded_embed_metadata_keys=['file_name', 'file_type', 'file_size', 'creation_date', 'last_modified_date', 'last_accessed_date'], excluded_llm_metadata_keys=['file_name', 'file_type', 'file_size', 'creation_date', 'last_modified_date', 'last_accessed_date'], relationships={<NodeRelationship.SOURCE: '1'>: RelatedNodeInfo(node_id='983d417e-964c-4a12-9efa-b2d34fa46c84', node_type=<ObjectType.DOCUMENT: '4'>, metadata={'file_path': 'd:\\\\projects\\\\AI_Projects\\\\EcoRide_Chatbot\\\\Backend\\\\docs\\\\Eco_ride_updated_docs.txt', 'file_name': 'Eco_ride_updated_docs.txt', 'file_type': 'text/plain', 'file_size': 4643, 'creation_date': '2025-06-14', 'last_modified_date': '2025-06-14'}, hash='eed3281f1083222f89f607c3f9b090a85ff37c9cbca61101d2f8a25fef668256'), <NodeRelationship.PREVIOUS: '2'>: RelatedNodeInfo(node_id='46dc0d3a-d116-44f9-88b8-e41192fa99b4', node_type=<ObjectType.TEXT: '1'>, metadata={'file_path': 'd:\\\\projects\\\\AI_Projects\\\\EcoRide_Chatbot\\\\Backend\\\\docs\\\\Eco_ride_updated_docs.txt', 'file_name': 'Eco_ride_updated_docs.txt', 'file_type': 'text/plain', 'file_size': 4643, 'creation_date': '2025-06-14', 'last_modified_date': '2025-06-14'}, hash='2d662a9e6a9c72dcaead8cc9f7144e43975d1b06f2d6a064cd1c79506708159b'), <NodeRelationship.NEXT: '3'>: RelatedNodeInfo(node_id='adcaf638-1bb7-457f-9c28-dd35c9cea505', node_type=<ObjectType.TEXT: '1'>, metadata={}, hash='434965001cb0ebb3d8464f887a53fca3235aeec651ce94374d29c587cd691012')}, metadata_template='{key}: {value}', metadata_separator='\\n', text='At its core, Eco Ride enables students who own vehicles with available seats to share rides with other students heading in the same direction. This platform promotes comfort, cost savings, and environmental sustainability.\\r\\n\\r\\n### SIGN-UP AND SECURITY\\r\\n\\r\\nEco Ride is an SKCET-exclusive platform. To sign up, users must provide their SKCET domain email and upload a valid college ID card. This verification ensures that only current students can access the platform, adding a strong layer of security and trust. Name and email are locked post-registration to prevent misuse.\\r\\n\\r\\n### FEATURES\\r\\n\\r\\n- **Ride Matching**: Smart filtering shows users only rides that match their route and preferences.\\r\\n- **Driver Ride Creation**: Drivers can publish rides with departure time, pickup location, and available seats.', mimetype='text/plain', start_char_idx=862, end_char_idx=1667, metadata_seperator='\\n', text_template='{metadata_str}\\n\\n{content}'),\n",
       " TextNode(id_='adcaf638-1bb7-457f-9c28-dd35c9cea505', embedding=None, metadata={'file_path': 'd:\\\\projects\\\\AI_Projects\\\\EcoRide_Chatbot\\\\Backend\\\\docs\\\\Eco_ride_updated_docs.txt', 'file_name': 'Eco_ride_updated_docs.txt', 'file_type': 'text/plain', 'file_size': 4643, 'creation_date': '2025-06-14', 'last_modified_date': '2025-06-14'}, excluded_embed_metadata_keys=['file_name', 'file_type', 'file_size', 'creation_date', 'last_modified_date', 'last_accessed_date'], excluded_llm_metadata_keys=['file_name', 'file_type', 'file_size', 'creation_date', 'last_modified_date', 'last_accessed_date'], relationships={<NodeRelationship.SOURCE: '1'>: RelatedNodeInfo(node_id='983d417e-964c-4a12-9efa-b2d34fa46c84', node_type=<ObjectType.DOCUMENT: '4'>, metadata={'file_path': 'd:\\\\projects\\\\AI_Projects\\\\EcoRide_Chatbot\\\\Backend\\\\docs\\\\Eco_ride_updated_docs.txt', 'file_name': 'Eco_ride_updated_docs.txt', 'file_type': 'text/plain', 'file_size': 4643, 'creation_date': '2025-06-14', 'last_modified_date': '2025-06-14'}, hash='eed3281f1083222f89f607c3f9b090a85ff37c9cbca61101d2f8a25fef668256'), <NodeRelationship.PREVIOUS: '2'>: RelatedNodeInfo(node_id='e4b74117-7bcf-4022-b9a7-7c70afa0a17a', node_type=<ObjectType.TEXT: '1'>, metadata={'file_path': 'd:\\\\projects\\\\AI_Projects\\\\EcoRide_Chatbot\\\\Backend\\\\docs\\\\Eco_ride_updated_docs.txt', 'file_name': 'Eco_ride_updated_docs.txt', 'file_type': 'text/plain', 'file_size': 4643, 'creation_date': '2025-06-14', 'last_modified_date': '2025-06-14'}, hash='b7dbe10159683c4bf47aadcc14465f850a15b012583c26984920b81df9409f0a'), <NodeRelationship.NEXT: '3'>: RelatedNodeInfo(node_id='6f293614-a0fd-4c1d-a54d-2cfafe412937', node_type=<ObjectType.TEXT: '1'>, metadata={}, hash='2901fc7c56258def8942984343a9cc9c80125563bdda193c1076a3e818515492')}, metadata_template='{key}: {value}', metadata_separator='\\n', text='- **Passenger Booking**: Passengers can easily book rides based on proximity, time, and reviews.\\r\\n- **Ride History**: Past, current, and upcoming rides are stored for both passengers and drivers.\\r\\n- **Combined Filters**: Rides can be searched using filters like driver rating, departure time, or seat count.\\r\\n- **Real-Time Communication**: Users can connect securely within the app.\\r\\n\\r\\n### USER MODULES\\r\\n\\r\\n- **Profile Page**: Update contact info; view booking/riding preferences.\\r\\n- **Ride Creation Page**: Post available rides as a driver.\\r\\n- **Booking Page**: View and book rides as a passenger.\\r\\n- **Driver History Page**: View all created, ongoing, and completed rides.\\r\\n- **Passenger History Page**: Track all booked rides.\\r\\n- **Location Info Page**: View ride route, timings, and pickup details.', mimetype='text/plain', start_char_idx=1669, end_char_idx=2470, metadata_seperator='\\n', text_template='{metadata_str}\\n\\n{content}'),\n",
       " TextNode(id_='6f293614-a0fd-4c1d-a54d-2cfafe412937', embedding=None, metadata={'file_path': 'd:\\\\projects\\\\AI_Projects\\\\EcoRide_Chatbot\\\\Backend\\\\docs\\\\Eco_ride_updated_docs.txt', 'file_name': 'Eco_ride_updated_docs.txt', 'file_type': 'text/plain', 'file_size': 4643, 'creation_date': '2025-06-14', 'last_modified_date': '2025-06-14'}, excluded_embed_metadata_keys=['file_name', 'file_type', 'file_size', 'creation_date', 'last_modified_date', 'last_accessed_date'], excluded_llm_metadata_keys=['file_name', 'file_type', 'file_size', 'creation_date', 'last_modified_date', 'last_accessed_date'], relationships={<NodeRelationship.SOURCE: '1'>: RelatedNodeInfo(node_id='983d417e-964c-4a12-9efa-b2d34fa46c84', node_type=<ObjectType.DOCUMENT: '4'>, metadata={'file_path': 'd:\\\\projects\\\\AI_Projects\\\\EcoRide_Chatbot\\\\Backend\\\\docs\\\\Eco_ride_updated_docs.txt', 'file_name': 'Eco_ride_updated_docs.txt', 'file_type': 'text/plain', 'file_size': 4643, 'creation_date': '2025-06-14', 'last_modified_date': '2025-06-14'}, hash='eed3281f1083222f89f607c3f9b090a85ff37c9cbca61101d2f8a25fef668256'), <NodeRelationship.PREVIOUS: '2'>: RelatedNodeInfo(node_id='adcaf638-1bb7-457f-9c28-dd35c9cea505', node_type=<ObjectType.TEXT: '1'>, metadata={'file_path': 'd:\\\\projects\\\\AI_Projects\\\\EcoRide_Chatbot\\\\Backend\\\\docs\\\\Eco_ride_updated_docs.txt', 'file_name': 'Eco_ride_updated_docs.txt', 'file_type': 'text/plain', 'file_size': 4643, 'creation_date': '2025-06-14', 'last_modified_date': '2025-06-14'}, hash='6785e7abf50654b9773db7b6a0e3d29378f7124607614df197efb757ccf4ea11'), <NodeRelationship.NEXT: '3'>: RelatedNodeInfo(node_id='fca258e3-1aa0-4b40-9d48-46a3b30c7dc4', node_type=<ObjectType.TEXT: '1'>, metadata={}, hash='ca5badf853cdfe32bee54b439d12152afc6d43d9b31d7620e61e69e416a79d67')}, metadata_template='{key}: {value}', metadata_separator='\\n', text='### TECHNOLOGY STACK\\r\\n\\r\\n- **Frontend**: ReactJS\\r\\n- **Backend**: Java (Spring Boot)\\r\\n- **Database**: PostgreSQL\\r\\n- **Tools**: Visual Studio Code\\r\\n- **Security**: End-to-End Encryption, Multi-Factor Authentication (MFA)\\r\\n- **Architecture**: Cloud-ready Microservices-based, built for scalable deployment\\r\\n\\r\\nKey backend dependencies:\\r\\n- Spring Web, Spring Security, DevTools, Spring Data JPA, PostgreSQL Driver, Lombok\\r\\n\\r\\n### SECURITY PROTOCOLS\\r\\n\\r\\n- **Multi-Factor Authentication (MFA)** ensures user identity.\\r\\n- **End-to-End Encryption** protects user data in transit.\\r\\n- **Verified Community Access** ensures rides are shared only among known SKCET students.', mimetype='text/plain', start_char_idx=2474, end_char_idx=3132, metadata_seperator='\\n', text_template='{metadata_str}\\n\\n{content}'),\n",
       " TextNode(id_='fca258e3-1aa0-4b40-9d48-46a3b30c7dc4', embedding=None, metadata={'file_path': 'd:\\\\projects\\\\AI_Projects\\\\EcoRide_Chatbot\\\\Backend\\\\docs\\\\Eco_ride_updated_docs.txt', 'file_name': 'Eco_ride_updated_docs.txt', 'file_type': 'text/plain', 'file_size': 4643, 'creation_date': '2025-06-14', 'last_modified_date': '2025-06-14'}, excluded_embed_metadata_keys=['file_name', 'file_type', 'file_size', 'creation_date', 'last_modified_date', 'last_accessed_date'], excluded_llm_metadata_keys=['file_name', 'file_type', 'file_size', 'creation_date', 'last_modified_date', 'last_accessed_date'], relationships={<NodeRelationship.SOURCE: '1'>: RelatedNodeInfo(node_id='983d417e-964c-4a12-9efa-b2d34fa46c84', node_type=<ObjectType.DOCUMENT: '4'>, metadata={'file_path': 'd:\\\\projects\\\\AI_Projects\\\\EcoRide_Chatbot\\\\Backend\\\\docs\\\\Eco_ride_updated_docs.txt', 'file_name': 'Eco_ride_updated_docs.txt', 'file_type': 'text/plain', 'file_size': 4643, 'creation_date': '2025-06-14', 'last_modified_date': '2025-06-14'}, hash='eed3281f1083222f89f607c3f9b090a85ff37c9cbca61101d2f8a25fef668256'), <NodeRelationship.PREVIOUS: '2'>: RelatedNodeInfo(node_id='6f293614-a0fd-4c1d-a54d-2cfafe412937', node_type=<ObjectType.TEXT: '1'>, metadata={'file_path': 'd:\\\\projects\\\\AI_Projects\\\\EcoRide_Chatbot\\\\Backend\\\\docs\\\\Eco_ride_updated_docs.txt', 'file_name': 'Eco_ride_updated_docs.txt', 'file_type': 'text/plain', 'file_size': 4643, 'creation_date': '2025-06-14', 'last_modified_date': '2025-06-14'}, hash='e4b5d504ca6d37780f33157d104fc09e6ff5877d73e8e742959e053ae033b808'), <NodeRelationship.NEXT: '3'>: RelatedNodeInfo(node_id='bbd266a3-5490-4f40-951b-b9ac3ce847be', node_type=<ObjectType.TEXT: '1'>, metadata={}, hash='823adebcc11de34ba3ee6845cfa72e9f66ab0a1fd052672b194736f0531ce3c9')}, metadata_template='{key}: {value}', metadata_separator='\\n', text='### ENVIRONMENTAL IMPACT\\r\\n\\r\\nEco Ride directly contributes to sustainability:\\r\\n- Reduced fuel usage by ride-sharing\\r\\n- Fewer vehicles on campus reduces traffic and parking issues\\r\\n- Lower carbon emissions from pooled transportation\\r\\n\\r\\n### SOCIAL & ECONOMIC VALUE\\r\\n\\r\\n- Builds student connections and a community culture\\r\\n- Reduces travel stress and financial burden\\r\\n- Allows for flexible scheduling unlike traditional bus transport\\r\\n\\r\\n### FUTURE SCOPE\\r\\n\\r\\nEco Ride is currently tailored for SKCET,', mimetype='text/plain', start_char_idx=3136, end_char_idx=3631, metadata_seperator='\\n', text_template='{metadata_str}\\n\\n{content}'),\n",
       " TextNode(id_='bbd266a3-5490-4f40-951b-b9ac3ce847be', embedding=None, metadata={'file_path': 'd:\\\\projects\\\\AI_Projects\\\\EcoRide_Chatbot\\\\Backend\\\\docs\\\\Eco_ride_updated_docs.txt', 'file_name': 'Eco_ride_updated_docs.txt', 'file_type': 'text/plain', 'file_size': 4643, 'creation_date': '2025-06-14', 'last_modified_date': '2025-06-14'}, excluded_embed_metadata_keys=['file_name', 'file_type', 'file_size', 'creation_date', 'last_modified_date', 'last_accessed_date'], excluded_llm_metadata_keys=['file_name', 'file_type', 'file_size', 'creation_date', 'last_modified_date', 'last_accessed_date'], relationships={<NodeRelationship.SOURCE: '1'>: RelatedNodeInfo(node_id='983d417e-964c-4a12-9efa-b2d34fa46c84', node_type=<ObjectType.DOCUMENT: '4'>, metadata={'file_path': 'd:\\\\projects\\\\AI_Projects\\\\EcoRide_Chatbot\\\\Backend\\\\docs\\\\Eco_ride_updated_docs.txt', 'file_name': 'Eco_ride_updated_docs.txt', 'file_type': 'text/plain', 'file_size': 4643, 'creation_date': '2025-06-14', 'last_modified_date': '2025-06-14'}, hash='eed3281f1083222f89f607c3f9b090a85ff37c9cbca61101d2f8a25fef668256'), <NodeRelationship.PREVIOUS: '2'>: RelatedNodeInfo(node_id='fca258e3-1aa0-4b40-9d48-46a3b30c7dc4', node_type=<ObjectType.TEXT: '1'>, metadata={'file_path': 'd:\\\\projects\\\\AI_Projects\\\\EcoRide_Chatbot\\\\Backend\\\\docs\\\\Eco_ride_updated_docs.txt', 'file_name': 'Eco_ride_updated_docs.txt', 'file_type': 'text/plain', 'file_size': 4643, 'creation_date': '2025-06-14', 'last_modified_date': '2025-06-14'}, hash='6fc7b59de7145fce67a025fc0ba0230e6693bb9122b01da6d6a4308e86d83264'), <NodeRelationship.NEXT: '3'>: RelatedNodeInfo(node_id='fb872066-2cf4-45c5-8514-f50186bc6be4', node_type=<ObjectType.TEXT: '1'>, metadata={}, hash='e8bde88fdc992c51c83591dc4afa908b53af94f7b6af86e906a828ee3410774f')}, metadata_template='{key}: {value}', metadata_separator='\\n', text='but the model can easily scale to:\\r\\n- Other colleges with similar student commuting patterns\\r\\n- Large IT campuses for employee carpooling\\r\\n- Corporate transportation management\\r\\n\\r\\n### DEVELOPMENT TEAM\\r\\n\\r\\nEco Ride was developed under the 21IT902 Advanced Application Development project by:\\r\\n- **Logeshkumar M** – 727722EUIT096\\r\\n- **Nithish Kumar P** – 727722EUIT123\\r\\n- **Pavithran G** – 727722EUIT126\\r\\n\\r\\nGuided by the Department of IT, SKCET, and submitted in partial fulfillment of B.Tech degree requirements.\\r\\n\\r\\n### CHATBOT SUPPORT – ECO-RIDE ASSIST\\r\\n\\r\\nEco-Ride Assist is the official chatbot companion for Eco Ride.', mimetype='text/plain', start_char_idx=3632, end_char_idx=4250, metadata_seperator='\\n', text_template='{metadata_str}\\n\\n{content}'),\n",
       " TextNode(id_='fb872066-2cf4-45c5-8514-f50186bc6be4', embedding=None, metadata={'file_path': 'd:\\\\projects\\\\AI_Projects\\\\EcoRide_Chatbot\\\\Backend\\\\docs\\\\Eco_ride_updated_docs.txt', 'file_name': 'Eco_ride_updated_docs.txt', 'file_type': 'text/plain', 'file_size': 4643, 'creation_date': '2025-06-14', 'last_modified_date': '2025-06-14'}, excluded_embed_metadata_keys=['file_name', 'file_type', 'file_size', 'creation_date', 'last_modified_date', 'last_accessed_date'], excluded_llm_metadata_keys=['file_name', 'file_type', 'file_size', 'creation_date', 'last_modified_date', 'last_accessed_date'], relationships={<NodeRelationship.SOURCE: '1'>: RelatedNodeInfo(node_id='983d417e-964c-4a12-9efa-b2d34fa46c84', node_type=<ObjectType.DOCUMENT: '4'>, metadata={'file_path': 'd:\\\\projects\\\\AI_Projects\\\\EcoRide_Chatbot\\\\Backend\\\\docs\\\\Eco_ride_updated_docs.txt', 'file_name': 'Eco_ride_updated_docs.txt', 'file_type': 'text/plain', 'file_size': 4643, 'creation_date': '2025-06-14', 'last_modified_date': '2025-06-14'}, hash='eed3281f1083222f89f607c3f9b090a85ff37c9cbca61101d2f8a25fef668256'), <NodeRelationship.PREVIOUS: '2'>: RelatedNodeInfo(node_id='bbd266a3-5490-4f40-951b-b9ac3ce847be', node_type=<ObjectType.TEXT: '1'>, metadata={'file_path': 'd:\\\\projects\\\\AI_Projects\\\\EcoRide_Chatbot\\\\Backend\\\\docs\\\\Eco_ride_updated_docs.txt', 'file_name': 'Eco_ride_updated_docs.txt', 'file_type': 'text/plain', 'file_size': 4643, 'creation_date': '2025-06-14', 'last_modified_date': '2025-06-14'}, hash='15adefdb53dd55dc4fb8659ff53a7e2fecfecb392bb5387adbdd68f8a18c5348')}, metadata_template='{key}: {value}', metadata_separator='\\n', text='It is trained to help users:\\r\\n- Sign up with institutional credentials\\r\\n- Create or book rides\\r\\n- Troubleshoot booking issues\\r\\n- View ride histories\\r\\n- Understand features and filters\\r\\n- Explore sustainability and benefits\\r\\n\\r\\nEco-Ride Assist is fast, friendly, and fully aware of SKCET policies, ensuring a helpful experience every time you ask for help inside the app or website.', mimetype='text/plain', start_char_idx=4251, end_char_idx=4631, metadata_seperator='\\n', text_template='{metadata_str}\\n\\n{content}')]"
      ]
     },
     "execution_count": 10,
     "metadata": {},
     "output_type": "execute_result"
    }
   ],
   "source": [
    "nodes"
   ]
  },
  {
   "cell_type": "markdown",
   "id": "8db505eb",
   "metadata": {},
   "source": [
    "# Indexing"
   ]
  },
  {
   "cell_type": "markdown",
   "id": "c1684c94",
   "metadata": {},
   "source": [
    "## ``` VectorStoreIndex ```\n",
    "By default it uses a in-memory ```SimpleVectorStore``` that's initialized as part of the default storage context"
   ]
  },
  {
   "cell_type": "code",
   "execution_count": 11,
   "id": "1ca9c9ae",
   "metadata": {},
   "outputs": [],
   "source": [
    "from llama_index.core import VectorStoreIndex\n",
    "from llama_index.embeddings.google_genai import GoogleGenAIEmbedding"
   ]
  },
  {
   "cell_type": "code",
   "execution_count": 12,
   "id": "9960fc87",
   "metadata": {},
   "outputs": [],
   "source": [
    "embed_model = GoogleGenAIEmbedding(\n",
    "    model_name=\"text-embedding-004\",\n",
    "    embed_batch_size=100,\n",
    "    api_key=os.getenv(\"GOOGLE_GENAI_API_KEY\")\n",
    ")"
   ]
  },
  {
   "cell_type": "markdown",
   "id": "04f56896",
   "metadata": {},
   "source": [
    "### Create an Index"
   ]
  },
  {
   "cell_type": "code",
   "execution_count": 13,
   "id": "e484765f",
   "metadata": {},
   "outputs": [],
   "source": [
    "index = VectorStoreIndex(nodes, embed_model=embed_model)"
   ]
  },
  {
   "cell_type": "markdown",
   "id": "089fa34b",
   "metadata": {},
   "source": [
    "### Persist the index"
   ]
  },
  {
   "cell_type": "code",
   "execution_count": 14,
   "id": "1e302bb2",
   "metadata": {},
   "outputs": [
    {
     "name": "stderr",
     "output_type": "stream",
     "text": [
      "The system cannot find the file specified.\n"
     ]
    }
   ],
   "source": [
    "%rmdir /S /Q storage"
   ]
  },
  {
   "cell_type": "code",
   "execution_count": 15,
   "id": "de4c3be0",
   "metadata": {},
   "outputs": [],
   "source": [
    "index_dir = \"./storage\""
   ]
  },
  {
   "cell_type": "code",
   "execution_count": 16,
   "id": "03b25936",
   "metadata": {},
   "outputs": [],
   "source": [
    "index.storage_context.persist(index_dir)"
   ]
  }
 ],
 "metadata": {
  "kernelspec": {
   "display_name": "base",
   "language": "python",
   "name": "python3"
  },
  "language_info": {
   "codemirror_mode": {
    "name": "ipython",
    "version": 3
   },
   "file_extension": ".py",
   "mimetype": "text/x-python",
   "name": "python",
   "nbconvert_exporter": "python",
   "pygments_lexer": "ipython3",
   "version": "3.12.4"
  }
 },
 "nbformat": 4,
 "nbformat_minor": 5
}
