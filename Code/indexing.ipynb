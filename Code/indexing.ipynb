{
 "cells": [
  {
   "cell_type": "markdown",
   "id": "47e6430c",
   "metadata": {},
   "source": [
    "# Read the data "
   ]
  },
  {
   "cell_type": "code",
   "execution_count": null,
   "id": "e6e07d91",
   "metadata": {},
   "outputs": [],
   "source": [
    "from llama_index.core import SimpleDirectoryReader\n",
    "from dotenv import load_dotenv\n",
    "import os\n",
    "\n",
    "load_dotenv()"
   ]
  },
  {
   "cell_type": "code",
   "execution_count": null,
   "id": "45ffbc39",
   "metadata": {},
   "outputs": [],
   "source": [
    "\n",
    "base_folder = \"./docs\"\n",
    "reader = SimpleDirectoryReader(base_folder, recursive=True, exclude_hidden=True)"
   ]
  },
  {
   "cell_type": "code",
   "execution_count": null,
   "id": "afe9ce19",
   "metadata": {},
   "outputs": [],
   "source": [
    "reader.input_files"
   ]
  },
  {
   "cell_type": "code",
   "execution_count": null,
   "id": "63b91d37",
   "metadata": {},
   "outputs": [],
   "source": [
    "docs = reader.load_data()"
   ]
  },
  {
   "cell_type": "code",
   "execution_count": null,
   "id": "84cc3d89",
   "metadata": {},
   "outputs": [],
   "source": [
    "print(docs[0].get_metadata_str())"
   ]
  },
  {
   "cell_type": "code",
   "execution_count": null,
   "id": "4d1e730c",
   "metadata": {},
   "outputs": [],
   "source": [
    "print(docs[0].__dict__)"
   ]
  },
  {
   "cell_type": "markdown",
   "id": "d1c56b07",
   "metadata": {},
   "source": [
    "# Node Parser"
   ]
  },
  {
   "cell_type": "code",
   "execution_count": null,
   "id": "367edd58",
   "metadata": {},
   "outputs": [],
   "source": [
    "from llama_index.core.node_parser import SentenceSplitter\n",
    "\n",
    "node_parser = SentenceSplitter(chunk_overlap=0, chunk_size=200)"
   ]
  },
  {
   "cell_type": "code",
   "execution_count": null,
   "id": "adc65432",
   "metadata": {},
   "outputs": [],
   "source": [
    "nodes = node_parser.get_nodes_from_documents(docs, show_progress=True)"
   ]
  },
  {
   "cell_type": "code",
   "execution_count": null,
   "id": "706f90cc",
   "metadata": {},
   "outputs": [],
   "source": [
    "print(len(nodes))"
   ]
  },
  {
   "cell_type": "code",
   "execution_count": null,
   "id": "30456bb6",
   "metadata": {},
   "outputs": [],
   "source": [
    "nodes"
   ]
  },
  {
   "cell_type": "markdown",
   "id": "8db505eb",
   "metadata": {},
   "source": [
    "# Indexing"
   ]
  },
  {
   "cell_type": "markdown",
   "id": "c1684c94",
   "metadata": {},
   "source": [
    "## ``` VectorStoreIndex ```\n",
    "By default it uses a in-memory ```SimpleVectorStore``` that's initialized as part of the default storage context"
   ]
  },
  {
   "cell_type": "code",
   "execution_count": null,
   "id": "1ca9c9ae",
   "metadata": {},
   "outputs": [],
   "source": [
    "from llama_index.core import VectorStoreIndex\n",
    "from llama_index.embeddings.google_genai import GoogleGenAIEmbedding"
   ]
  },
  {
   "cell_type": "code",
   "execution_count": null,
   "id": "9960fc87",
   "metadata": {},
   "outputs": [],
   "source": [
    "embed_model = GoogleGenAIEmbedding(\n",
    "    model_name=\"text-embedding-004\",\n",
    "    embed_batch_size=100,\n",
    "    api_key=os.getenv(\"GOOGLE_GENAI_API_KEY\")\n",
    ")"
   ]
  },
  {
   "cell_type": "markdown",
   "id": "04f56896",
   "metadata": {},
   "source": [
    "### Create an Index"
   ]
  },
  {
   "cell_type": "code",
   "execution_count": null,
   "id": "e484765f",
   "metadata": {},
   "outputs": [],
   "source": [
    "index = VectorStoreIndex(nodes, embed_model=embed_model)"
   ]
  },
  {
   "cell_type": "markdown",
   "id": "089fa34b",
   "metadata": {},
   "source": [
    "### Persist the index"
   ]
  },
  {
   "cell_type": "code",
   "execution_count": null,
   "id": "1e302bb2",
   "metadata": {},
   "outputs": [],
   "source": [
    "%rmdir /S /Q storage"
   ]
  },
  {
   "cell_type": "code",
   "execution_count": null,
   "id": "de4c3be0",
   "metadata": {},
   "outputs": [],
   "source": [
    "index_dir = \"./storage\""
   ]
  },
  {
   "cell_type": "code",
   "execution_count": null,
   "id": "03b25936",
   "metadata": {},
   "outputs": [],
   "source": [
    "index.storage_context.persist(index_dir)"
   ]
  }
 ],
 "metadata": {
  "kernelspec": {
   "display_name": "base",
   "language": "python",
   "name": "python3"
  },
  "language_info": {
   "codemirror_mode": {
    "name": "ipython",
    "version": 3
   },
   "file_extension": ".py",
   "mimetype": "text/x-python",
   "name": "python",
   "nbconvert_exporter": "python",
   "pygments_lexer": "ipython3",
   "version": "3.12.4"
  }
 },
 "nbformat": 4,
 "nbformat_minor": 5
}
