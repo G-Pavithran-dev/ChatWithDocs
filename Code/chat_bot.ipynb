{
 "cells": [
  {
   "cell_type": "markdown",
   "id": "2e83bc76",
   "metadata": {},
   "source": [
    "## Again Loading the Index and Creating a Chatbot with Gradio interface"
   ]
  },
  {
   "cell_type": "markdown",
   "id": "4c65640f",
   "metadata": {},
   "source": [
    "### Retrieving API KEY"
   ]
  },
  {
   "cell_type": "code",
   "execution_count": null,
   "id": "5c768b87",
   "metadata": {},
   "outputs": [],
   "source": [
    "from dotenv import load_dotenv\n",
    "import os\n",
    "\n",
    "load_dotenv()\n",
    "google_gemini_api_key = os.getenv(\"GOOGLE_GENAI_API_KEY\")\n",
    "print(google_gemini_api_key)"
   ]
  },
  {
   "cell_type": "markdown",
   "id": "b358a232",
   "metadata": {},
   "source": [
    "### Changing Embedded Model & LLM from OpenAI to Googl Gemini"
   ]
  },
  {
   "cell_type": "code",
   "execution_count": null,
   "id": "73792b3d",
   "metadata": {},
   "outputs": [],
   "source": [
    "from llama_index.core import Settings\n",
    "from llama_index.embeddings.google_genai import GoogleGenAIEmbedding\n",
    "from llama_index.llms.google_genai import GoogleGenAI\n",
    "\n",
    "Settings.embed_model = GoogleGenAIEmbedding(\n",
    "    model_name=\"text-embedding-004\",\n",
    "    api_key=google_gemini_api_key,\n",
    "    embed_batch_size=100\n",
    ")\n",
    "\n",
    "Settings.llm = GoogleGenAI(\n",
    "    model=\"gemini-2.0-flash\",\n",
    "    api_key=google_gemini_api_key\n",
    ")"
   ]
  },
  {
   "cell_type": "markdown",
   "id": "1a0f09e8",
   "metadata": {},
   "source": [
    "### Creating Storage_Index & Loading Index"
   ]
  },
  {
   "cell_type": "code",
   "execution_count": null,
   "id": "8461b132",
   "metadata": {},
   "outputs": [],
   "source": [
    "from llama_index.core import StorageContext, load_index_from_storage\n",
    "\n",
    "storage_index = StorageContext.from_defaults(persist_dir=\"./storage\")\n",
    "index = load_index_from_storage(storage_context=storage_index)"
   ]
  },
  {
   "cell_type": "markdown",
   "id": "cd80d2e3",
   "metadata": {},
   "source": [
    "### Creating Chat_Engine"
   ]
  },
  {
   "cell_type": "code",
   "execution_count": null,
   "id": "34ec9944",
   "metadata": {},
   "outputs": [],
   "source": [
    "chat_engine = index.as_chat_engine(verbose=True)"
   ]
  },
  {
   "cell_type": "code",
   "execution_count": null,
   "id": "f14414d2",
   "metadata": {},
   "outputs": [],
   "source": [
    "chat_engine.chat(\"Hii\")"
   ]
  },
  {
   "cell_type": "markdown",
   "id": "7eddd5f7",
   "metadata": {},
   "source": [
    "### Chat Interface with Gradio"
   ]
  },
  {
   "cell_type": "code",
   "execution_count": null,
   "id": "6ddb4e71",
   "metadata": {},
   "outputs": [],
   "source": [
    "# Wraps our chat history to format that gradio wants\n",
    "def wrapper_chat_history(memory):\n",
    "    chat_history = []\n",
    "    for m in memory:\n",
    "        if m.role in ['user', 'assistant'] and m.content is not None:\n",
    "            chat_history.append(m.content)\n",
    "    \n",
    "    return chat_history"
   ]
  },
  {
   "cell_type": "code",
   "execution_count": null,
   "id": "f3cf0c58",
   "metadata": {},
   "outputs": [],
   "source": [
    "wrapper_chat_history(chat_engine.chat_history)"
   ]
  },
  {
   "cell_type": "code",
   "execution_count": null,
   "id": "64fc27a4",
   "metadata": {},
   "outputs": [],
   "source": [
    "def converse(message, memory):\n",
    "    response = chat_engine.chat(message=message)\n",
    "    chat_history = wrapper_chat_history(chat_engine.chat_history)\n",
    "    return response.response"
   ]
  },
  {
   "cell_type": "code",
   "execution_count": null,
   "id": "cc0472d9",
   "metadata": {},
   "outputs": [],
   "source": [
    "import gradio as gd\n",
    "\n",
    "demo = gd.ChatInterface(fn=converse)\n",
    "demo.launch(share=False)"
   ]
  },
  {
   "cell_type": "code",
   "execution_count": null,
   "id": "eb75fb42",
   "metadata": {},
   "outputs": [],
   "source": [
    "chat_engine.chat_history"
   ]
  },
  {
   "cell_type": "code",
   "execution_count": null,
   "id": "6b52e9d4",
   "metadata": {},
   "outputs": [],
   "source": [
    "chat_engine.reset()"
   ]
  }
 ],
 "metadata": {
  "kernelspec": {
   "display_name": "base",
   "language": "python",
   "name": "python3"
  },
  "language_info": {
   "codemirror_mode": {
    "name": "ipython",
    "version": 3
   },
   "file_extension": ".py",
   "mimetype": "text/x-python",
   "name": "python",
   "nbconvert_exporter": "python",
   "pygments_lexer": "ipython3",
   "version": "3.12.4"
  }
 },
 "nbformat": 4,
 "nbformat_minor": 5
}
